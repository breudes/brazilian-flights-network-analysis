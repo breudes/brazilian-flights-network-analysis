{
  "nbformat": 4,
  "nbformat_minor": 0,
  "metadata": {
    "colab": {
      "name": "brazilian-flights.ipynb",
      "provenance": [],
      "collapsed_sections": [],
      "authorship_tag": "ABX9TyMolKpOixkdIhXMcs+wJzsd",
      "include_colab_link": true
    },
    "kernelspec": {
      "name": "python3",
      "display_name": "Python 3"
    },
    "language_info": {
      "name": "python"
    }
  },
  "cells": [
    {
      "cell_type": "markdown",
      "metadata": {
        "id": "view-in-github",
        "colab_type": "text"
      },
      "source": [
        "<a href=\"https://colab.research.google.com/github/breudes/brazilian-flights-network-analysis/blob/master/brazilian_flights.ipynb\" target=\"_parent\"><img src=\"https://colab.research.google.com/assets/colab-badge.svg\" alt=\"Open In Colab\"/></a>"
      ]
    },
    {
      "cell_type": "markdown",
      "metadata": {
        "id": "4IGP__9AMcF-"
      },
      "source": [
        "Brazilian Flights Network Analysis\n",
        "\n",
        "Authors: Brenda Alexandra de Souza Silva and Paulo"
      ]
    },
    {
      "cell_type": "code",
      "metadata": {
        "id": "UKHe2SR7MW9A"
      },
      "source": [
        ""
      ],
      "execution_count": null,
      "outputs": []
    }
  ]
}